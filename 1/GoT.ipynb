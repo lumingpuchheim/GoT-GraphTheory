{
 "cells": [
  {
   "cell_type": "markdown",
   "metadata": {},
   "source": [
    "# Network Playground using GoT Dataset (1): Basic Metrics"
   ]
  },
  {
   "cell_type": "markdown",
   "metadata": {},
   "source": [
    "Network or Graph is a special representation of entities which have relationships among themselves. It is made up of a collection of two generic objects — (1) node: which represents an entity, and (2) edge: which represents the connection between any two nodes. In a complex network, we also have attributes or features associated with each node and edge. "
   ]
  },
  {
   "cell_type": "markdown",
   "metadata": {},
   "source": [
    "## Winter is Coming. Let's load the dataset ASAP!"
   ]
  },
  {
   "cell_type": "markdown",
   "metadata": {},
   "source": [
    "If you haven't heard of Game of Thrones, then you must be really good at hiding. Game of Thrones is the hugely popular television series by HBO based on the (also) hugely popular book series A Song of Ice and Fire by George R.R. Martin. In this notebook, we will analyze the co-occurrence network of the characters in the Game of Thrones books. Here, two characters are considered to co-occur if their names appear in the vicinity of 15 words from one another in the books.\n",
    "\n",
    "Note we dont care what happened exactly to a person. A dead person who is often mentioned is in some way also powerful\n",
    "\n",
    "This notebook tries to answer the following question by applying graph theory. We try to give intuitive explanation for graph metrices/techniques, without complex mathemetical derivatives. \n",
    "- Who is the mightiest person?\n",
    "- Who is influential over Westeros, because more information will pass through that person?\n",
    "\n",
    "By answer these questions, we will also understand two important graph metrics:\n",
    "- Degree Centrality\n",
    "- Eigenvector Centrality\n",
    "- Betweenness Centrality"
   ]
  },
  {
   "cell_type": "markdown",
   "metadata": {},
   "source": [
    "## Install some Python Packages"
   ]
  },
  {
   "cell_type": "code",
   "execution_count": 1,
   "metadata": {},
   "outputs": [
    {
     "name": "stdout",
     "output_type": "stream",
     "text": [
      "Requirement already satisfied: pandas in /home/ming/.local/lib/python3.8/site-packages (1.5.1)\n",
      "Requirement already satisfied: numpy>=1.20.3; python_version < \"3.10\" in /home/ming/.local/lib/python3.8/site-packages (from pandas) (1.23.4)\n",
      "Requirement already satisfied: pytz>=2020.1 in /home/ming/.local/lib/python3.8/site-packages (from pandas) (2022.6)\n",
      "Requirement already satisfied: python-dateutil>=2.8.1 in /home/ming/.local/lib/python3.8/site-packages (from pandas) (2.8.2)\n",
      "Requirement already satisfied: six>=1.5 in /usr/lib/python3/dist-packages (from python-dateutil>=2.8.1->pandas) (1.14.0)\n",
      "Requirement already satisfied: python-dateutil in /home/ming/.local/lib/python3.8/site-packages (2.8.2)\n",
      "Requirement already satisfied: six>=1.5 in /usr/lib/python3/dist-packages (from python-dateutil) (1.14.0)\n",
      "Requirement already satisfied: networkx in /home/ming/.local/lib/python3.8/site-packages (2.8.8)\n",
      "Requirement already satisfied: pyvis in /home/ming/.local/lib/python3.8/site-packages (0.3.0)\n",
      "Requirement already satisfied: networkx>=1.11 in /home/ming/.local/lib/python3.8/site-packages (from pyvis) (2.8.8)\n",
      "Requirement already satisfied: jsonpickle>=1.4.1 in /home/ming/.local/lib/python3.8/site-packages (from pyvis) (2.2.0)\n",
      "Requirement already satisfied: ipython>=5.3.0 in /usr/lib/python3/dist-packages (from pyvis) (7.13.0)\n",
      "Requirement already satisfied: jinja2>=2.9.6 in /usr/lib/python3/dist-packages (from pyvis) (2.10.1)\n",
      "Requirement already satisfied: pexpect in /usr/lib/python3/dist-packages (from ipython>=5.3.0->pyvis) (4.6.0)\n"
     ]
    }
   ],
   "source": [
    "!pip install pandas\n",
    "!pip install python-dateutil\n",
    "!pip install networkx\n",
    "!pip install pyvis"
   ]
  },
  {
   "cell_type": "markdown",
   "metadata": {},
   "source": [
    "## Load the Dataset\n",
    "\n",
    "<a href=\"https://www.kaggle.com/code/mmmarchetti/game-of-thrones-network-analysis\">GoT Dataset</a>\n",
    "Please download the csv files from the link above and save them under the same directory as this notebook.\n",
    "\n",
    "Lets directly jump to book 5 which is the last dataset, since we want to guess who is winning in the end. We will show the network extracted from book 5. "
   ]
  },
  {
   "cell_type": "code",
   "execution_count": 2,
   "metadata": {},
   "outputs": [
    {
     "name": "stdout",
     "output_type": "stream",
     "text": [
      "                             Source              Target        Type  weight  \\\n",
      "0                 Aegon-I-Targaryen  Daenerys-Targaryen  undirected       4   \n",
      "1  Aegon-Targaryen-(son-of-Rhaegar)  Daenerys-Targaryen  undirected      11   \n",
      "2  Aegon-Targaryen-(son-of-Rhaegar)        Elia-Martell  undirected       4   \n",
      "3  Aegon-Targaryen-(son-of-Rhaegar)    Franklyn-Flowers  undirected       3   \n",
      "4  Aegon-Targaryen-(son-of-Rhaegar)              Haldon  undirected      14   \n",
      "\n",
      "   book  \n",
      "0     5  \n",
      "1     5  \n",
      "2     5  \n",
      "3     5  \n",
      "4     5  \n",
      "Local cdn resources have problems on chrome/safari when used in jupyter-notebook. \n"
     ]
    },
    {
     "data": {
      "text/html": [
       "\n",
       "        <iframe\n",
       "            width=\"100%\"\n",
       "            height=\"600px\"\n",
       "            src=\"test5.html\"\n",
       "            frameborder=\"0\"\n",
       "            allowfullscreen\n",
       "        ></iframe>\n",
       "        "
      ],
      "text/plain": [
       "<IPython.lib.display.IFrame at 0x7feb65ee2fd0>"
      ]
     },
     "execution_count": 2,
     "metadata": {},
     "output_type": "execute_result"
    }
   ],
   "source": [
    "import networkx as nx\n",
    "import pandas as pd\n",
    "from pyvis.network import Network\n",
    "# Reading in datasets/book5.csv\n",
    "book5 = pd.read_csv('book5.csv')\n",
    "\n",
    "# Printing out the head of the dataset\n",
    "print(book5.head())\n",
    "\n",
    "G5 = nx.from_pandas_edgelist(book5, source='Source', target=\"Target\")\n",
    "net5 = Network(notebook=True)\n",
    "net5.from_nx(G5)\n",
    "net5.show(\"test5.html\")"
   ]
  },
  {
   "cell_type": "markdown",
   "metadata": {},
   "source": [
    "## Who is the mightiest person?\n",
    "\n",
    "From the graph above we can also see some people have more connections (Jon, Daenerys etc.) than the others. Calculating the degree centrality gets the same result."
   ]
  },
  {
   "cell_type": "code",
   "execution_count": 3,
   "metadata": {},
   "outputs": [
    {
     "name": "stdout",
     "output_type": "stream",
     "text": [
      "[('Jon-Snow', 0.1962025316455696), ('Daenerys-Targaryen', 0.18354430379746836), ('Stannis-Baratheon', 0.14873417721518986), ('Tyrion-Lannister', 0.10443037974683544), ('Theon-Greyjoy', 0.10443037974683544)]\n"
     ]
    }
   ],
   "source": [
    "centrality5 = nx.degree_centrality(G5)\n",
    "centrality_list5 = sorted(centrality5.items(), key=lambda x: x[1], reverse=True)\n",
    "\n",
    "# Print the names with the most centralities\n",
    "print(centrality_list5[:5])"
   ]
  },
  {
   "cell_type": "markdown",
   "metadata": {},
   "source": [
    "We can also calculate the eigenvector centrality. Eigenvector centrality computes the centrality for a node based on the centrality of its neighbors. The eigenvector centrality for node $i$\n",
    " is the \n",
    "$i$-th element of the vector $x$\n",
    " defined by the equation\n",
    " $Ax = \\lambda x$\n",
    " \n",
    " An intuitive explanation would be important people connected to important people, who have lots of connections. The eigenvector score is different from the centrality score. In this way, we found out Daenerys has the greatest eigenvector centrality, which means she is the most powerful person."
   ]
  },
  {
   "cell_type": "code",
   "execution_count": 4,
   "metadata": {},
   "outputs": [
    {
     "name": "stdout",
     "output_type": "stream",
     "text": [
      "[('Daenerys-Targaryen', 0.4026451144974876), ('Barristan-Selmy', 0.23153906683464165), ('Stannis-Baratheon', 0.22788340078917774), ('Tyrion-Lannister', 0.22067143120644875), ('Hizdahr-zo-Loraq', 0.2014542130740377)]\n"
     ]
    }
   ],
   "source": [
    "eigen_centrality5 = nx.eigenvector_centrality(G5, max_iter=200)\n",
    "eigen_centrality_list5 = sorted(eigen_centrality5.items(), key=lambda x: x[1], reverse=True)\n",
    "\n",
    "# Print the names with the most eigenvector centralities\n",
    "print(eigen_centrality_list5[:5])"
   ]
  },
  {
   "cell_type": "markdown",
   "metadata": {},
   "source": [
    "## Who is influential over Westeros?\n",
    "\n",
    "We can calculate the betweenness centrality. Betweenness centrality finds wide application in network theory; it represents the degree to which nodes stand between each other. \n",
    "\n",
    "The result shows that Stannis has greatest betweenness centralities. He may not dominate the kingdom in the end, but certainly he will play essential role in the story!"
   ]
  },
  {
   "cell_type": "code",
   "execution_count": 5,
   "metadata": {
    "scrolled": true
   },
   "outputs": [
    {
     "name": "stdout",
     "output_type": "stream",
     "text": [
      "[('Stannis-Baratheon', 0.45283060689247934), ('Daenerys-Targaryen', 0.2959459062106149), ('Jon-Snow', 0.24484873673158666), ('Tyrion-Lannister', 0.20961613179551256), ('Robert-Baratheon', 0.17716906651536968)]\n"
     ]
    }
   ],
   "source": [
    "betweenness_centrality5 = nx.betweenness_centrality(G5)\n",
    "betweenness_centrality_list5 = sorted(betweenness_centrality5.items(), key=lambda x: x[1], reverse=True)\n",
    "\n",
    "# Print the names with the most betweenness centralities\n",
    "print(betweenness_centrality_list5[:5])"
   ]
  },
  {
   "cell_type": "markdown",
   "metadata": {},
   "source": [
    "# Conclusion\n",
    "In this notebook we have learned what is a graph and three of its metrics:\n",
    "- Degree Centriality\n",
    "- Eigenvector Centrality\n",
    "- Betweenness Centrality"
   ]
  }
 ],
 "metadata": {
  "kernelspec": {
   "display_name": "Python 3",
   "language": "python",
   "name": "python3"
  },
  "language_info": {
   "codemirror_mode": {
    "name": "ipython",
    "version": 3
   },
   "file_extension": ".py",
   "mimetype": "text/x-python",
   "name": "python",
   "nbconvert_exporter": "python",
   "pygments_lexer": "ipython3",
   "version": "3.8.10"
  }
 },
 "nbformat": 4,
 "nbformat_minor": 4
}
